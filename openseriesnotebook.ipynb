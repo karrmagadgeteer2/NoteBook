{
 "cells": [
  {
   "cell_type": "markdown",
   "metadata": {
    "editable": true,
    "slideshow": {
     "slide_type": "slide"
    },
    "tags": []
   },
   "source": [
    "<div style=\"padding-right: 2rem; padding-bottom: 2rem; width: 100px; height: 100px; align: left;\">\n",
    "<img src=\"https://sales.captor.se/captor_logo_sv_1600_icketransparent.png\" alt=\"Captor Fund Management AB\"/>\n",
    "</div>\n",
    "<div>\n",
    "  <h3>An introduction to the <a href=\"https://pypi.org/project/openseries/\">openseries</a> Python package</h3>\n",
    "</div>"
   ]
  },
  {
   "cell_type": "markdown",
   "metadata": {
    "slideshow": {
     "slide_type": "slide"
    }
   },
   "source": [
    "First we set it all up"
   ]
  },
  {
   "cell_type": "code",
   "execution_count": null,
   "metadata": {
    "cell_style": "split",
    "slideshow": {
     "slide_type": "fragment"
    }
   },
   "outputs": [],
   "source": [
    "import datetime as dt\n",
    "import requests\n",
    "from plotly.offline import init_notebook_mode, iplot\n",
    "\n",
    "from openseries import (\n",
    "    OpenTimeSeries,\n",
    "    OpenFrame,\n",
    "    ReturnSimulation,\n",
    "    ValueType,\n",
    "    efficient_frontier,\n",
    "    prepare_plot_data,\n",
    "    sharpeplot,\n",
    ")\n",
    "\n",
    "seed = 55\n",
    "init_notebook_mode()"
   ]
  },
  {
   "cell_type": "markdown",
   "metadata": {
    "slideshow": {
     "slide_type": "slide"
    }
   },
   "source": [
    "We define a function to fetch data from an external API"
   ]
  },
  {
   "cell_type": "code",
   "execution_count": null,
   "metadata": {
    "slideshow": {
     "slide_type": "fragment"
    }
   },
   "outputs": [],
   "source": [
    "def get_fund_nav(isin_code: str) -> OpenTimeSeries:\n",
    "\n",
    "    response = requests.get(url=\"https://api.qipple.com/public/api/nav\", timeout=30)\n",
    "\n",
    "    if response.status_code // 100 != 2:\n",
    "        raise ValueError(f\"{response.status_code}, {response.text}\")\n",
    "\n",
    "    data = {}\n",
    "    result = response.json()\n",
    "    for res in result:\n",
    "        if res[\"isin\"] == isin_code:\n",
    "            data.update(res)\n",
    "\n",
    "    if len(data) == 0:\n",
    "        raise ValueError(\n",
    "            f\"Request for NAV series using ISIN {isin_code} returned no data.\"\n",
    "\n",
    "        )\n",
    "\n",
    "    return OpenTimeSeries.from_arrays(\n",
    "        name=data[\"longName\"],\n",
    "        timeseries_id=data[\"_id\"],\n",
    "        baseccy=data[\"currency\"],\n",
    "        dates=data[\"dates\"],\n",
    "        values=data[\"navPerUnit\"],\n",
    "        valuetype=ValueType.PRICE,\n",
    "    )"
   ]
  },
  {
   "cell_type": "markdown",
   "metadata": {
    "slideshow": {
     "slide_type": "slide"
    }
   },
   "source": [
    "Here we fetch NAV (price per unit) for some of the Captor mutual funds"
   ]
  },
  {
   "cell_type": "code",
   "execution_count": null,
   "metadata": {
    "pycharm": {
     "name": "#%%\n"
    },
    "slideshow": {
     "slide_type": "fragment"
    }
   },
   "outputs": [],
   "source": [
    "basket = OpenFrame(\n",
    "    [\n",
    "        get_fund_nav(isin_code=\"SE0015243886\"),\n",
    "        get_fund_nav(isin_code=\"SE0011337195\"),\n",
    "        get_fund_nav(isin_code=\"SE0011670843\"),\n",
    "        get_fund_nav(isin_code=\"SE0017832280\"),\n",
    "        get_fund_nav(isin_code=\"SE0017832330\"),\n",
    "    ]\n",
    ")\n",
    "basket = basket.value_nan_handle().trunc_frame().to_cumret()"
   ]
  },
  {
   "cell_type": "markdown",
   "metadata": {
    "slideshow": {
     "slide_type": "subslide"
    }
   },
   "source": [
    "We then make a portfolio of the funds based on a weight strategy"
   ]
  },
  {
   "cell_type": "code",
   "execution_count": null,
   "metadata": {
    "cell_style": "center",
    "pycharm": {
     "name": "#%%\n"
    },
    "slideshow": {
     "slide_type": "fragment"
    }
   },
   "outputs": [],
   "source": [
    "portfolio = OpenTimeSeries.from_df(basket.make_portfolio(name=\"Portfolio\", weight_strat=\"eq_weights\"))\n",
    "basket = basket.add_timeseries(portfolio)"
   ]
  },
  {
   "cell_type": "markdown",
   "metadata": {
    "cell_style": "center",
    "slideshow": {
     "slide_type": "fragment"
    }
   },
   "source": [
    "And create and display a Plotly plot of all the data"
   ]
  },
  {
   "cell_type": "code",
   "execution_count": null,
   "metadata": {
    "slideshow": {
     "slide_type": "fragment"
    }
   },
   "outputs": [],
   "source": [
    "figure, _ = basket.plot_series(tick_fmt=\".1%\", auto_open=False, output_type=\"div\", add_logo=False)\n",
    "figure = figure.update_layout(\n",
    "    height=600, \n",
    "    font_size=10, \n",
    "    legend=dict(\n",
    "        yanchor=\"bottom\", \n",
    "        y=-0.3, \n",
    "        xanchor=\"right\", \n",
    "        x=0.98, \n",
    "        orientation=\"h\"\n",
    "    )\n",
    ")\n",
    "iplot(figure, link_text=\"\")"
   ]
  },
  {
   "cell_type": "markdown",
   "metadata": {
    "editable": true,
    "slideshow": {
     "slide_type": "slide"
    },
    "tags": []
   },
   "source": [
    "Here we calculate and display a Pandas Dataframe with some analyses"
   ]
  },
  {
   "cell_type": "code",
   "execution_count": null,
   "metadata": {
    "cell_style": "split",
    "pycharm": {
     "name": "#%%\n"
    },
    "slideshow": {
     "slide_type": "fragment"
    }
   },
   "outputs": [],
   "source": [
    "df = basket.all_properties(properties=[\n",
    "        \"arithmetic_ret\",\n",
    "        \"vol\",\n",
    "        \"ret_vol_ratio\",\n",
    "        \"sortino_ratio\",\n",
    "        \"worst_month\",\n",
    "        \"cvar_down\",\n",
    "        \"first_indices\",\n",
    "        \"last_indices\",\n",
    "    ]\n",
    ")"
   ]
  },
  {
   "cell_type": "code",
   "execution_count": null,
   "metadata": {
    "cell_style": "split",
    "slideshow": {
     "slide_type": "-"
    }
   },
   "outputs": [],
   "source": [
    "df.columns = df.columns.droplevel(level=1)\n",
    "\n",
    "formats = [\n",
    "        \"{:.2%}\",\n",
    "        \"{:.2%}\",\n",
    "        \"{:.2f}\",\n",
    "        \"{:.2f}\",\n",
    "        \"{:.2%}\",\n",
    "        \"{:.2%}\",\n",
    "        \"{:%Y-%m-%d}\",\n",
    "        \"{:%Y-%m-%d}\",\n",
    "    ]\n",
    "\n",
    "for item, f in zip(df.index, formats):\n",
    "    df.loc[item] = df.loc[item].apply(\n",
    "        lambda x: x if isinstance(x, str) else f.format(x)\n",
    "    )\n",
    "df"
   ]
  },
  {
   "cell_type": "markdown",
   "metadata": {
    "editable": true,
    "slideshow": {
     "slide_type": "slide"
    },
    "tags": []
   },
   "source": [
    "Below we illustrate the portfolio simulation tools in the package. We first simulate 4 assets."
   ]
  },
  {
   "cell_type": "code",
   "execution_count": null,
   "metadata": {
    "editable": true,
    "slideshow": {
     "slide_type": ""
    },
    "tags": []
   },
   "outputs": [],
   "source": [
    "series = ReturnSimulation.from_merton_jump_gbm(\n",
    "    number_of_sims=4,\n",
    "    trading_days=2512,\n",
    "    mean_annual_return=0.05,\n",
    "    mean_annual_vol=0.1,\n",
    "    jumps_lamda=0.1,\n",
    "    jumps_sigma=0.3,\n",
    "    jumps_mu=-0.2,\n",
    "    trading_days_in_year=252,\n",
    "    seed=seed,\n",
    ")\n",
    "assets = OpenFrame(\n",
    "    [\n",
    "        OpenTimeSeries.from_df(\n",
    "            series.to_dataframe(name=\"Asset\", end=dt.date(2023, 12, 29)),\n",
    "            column_nmbr=serie,\n",
    "        )\n",
    "        for serie in range(series.number_of_sims)\n",
    "    ],\n",
    ").to_cumret()"
   ]
  },
  {
   "cell_type": "markdown",
   "metadata": {
    "editable": true,
    "slideshow": {
     "slide_type": "slide"
    },
    "tags": []
   },
   "source": [
    "We then simulate portfolio weights and find the efficient frontier and optimal portfolio using return over volatility as the target measure."
   ]
  },
  {
   "cell_type": "code",
   "execution_count": null,
   "metadata": {
    "editable": true,
    "slideshow": {
     "slide_type": ""
    },
    "tags": []
   },
   "outputs": [],
   "source": [
    "simulations = 5000\n",
    "points = 30\n",
    "\n",
    "current = OpenTimeSeries.from_df(\n",
    "    assets.make_portfolio(\n",
    "        name=\"Current Portfolio\",\n",
    "        weight_strat=\"eq_weights\",\n",
    "    ),\n",
    ")\n",
    "frontier, simulated, optimum = efficient_frontier(\n",
    "    eframe=assets,\n",
    "    num_ports=simulations,\n",
    "    seed=seed,\n",
    "    frontier_points=points,\n",
    ")\n",
    "plotframe = prepare_plot_data(\n",
    "    assets=assets,\n",
    "    current=current,\n",
    "    optimized=optimum,\n",
    ")\n",
    "simfigure, _ = sharpeplot(\n",
    "    sim_frame=simulated,\n",
    "    line_frame=frontier,\n",
    "    point_frame=plotframe,\n",
    "    point_frame_mode=\"markers+text\",\n",
    "    title=False,\n",
    "    add_logo=False,\n",
    "    auto_open=False,\n",
    "    output_type=\"div\",\n",
    ")\n",
    "simfigure = simfigure.update_layout(font_size=10, height=600)\n",
    "iplot(simfigure, link_text=\"\")"
   ]
  },
  {
   "cell_type": "code",
   "execution_count": null,
   "metadata": {},
   "outputs": [],
   "source": []
  }
 ],
 "metadata": {
  "celltoolbar": "Slideshow",
  "kernelspec": {
   "display_name": "Python 3 (ipykernel)",
   "language": "python",
   "name": "python3"
  },
  "language_info": {
   "codemirror_mode": {
    "name": "ipython",
    "version": 3
   },
   "file_extension": ".py",
   "mimetype": "text/x-python",
   "name": "python",
   "nbconvert_exporter": "python",
   "pygments_lexer": "ipython3",
   "version": "3.10.4"
  },
  "rise": {
   "start_slideshow_at": "beginning",
   "theme": "simple"
  }
 },
 "nbformat": 4,
 "nbformat_minor": 4
}
